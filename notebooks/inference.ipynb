{
 "cells": [
  {
   "cell_type": "markdown",
   "metadata": {},
   "source": [
    "### `Importing Necessary Libraries`"
   ]
  },
  {
   "cell_type": "code",
   "execution_count": 1,
   "metadata": {},
   "outputs": [],
   "source": [
    "import pandas as pd\n",
    "import numpy as np\n",
    "import matplotlib.pyplot as plt\n",
    "import seaborn as sns"
   ]
  },
  {
   "cell_type": "markdown",
   "metadata": {},
   "source": [
    "### `Data Import`"
   ]
  },
  {
   "cell_type": "code",
   "execution_count": 3,
   "metadata": {},
   "outputs": [
    {
     "name": "stdout",
     "output_type": "stream",
     "text": [
      "Shape of the dataset: (10000, 10)\n"
     ]
    },
    {
     "data": {
      "application/vnd.microsoft.datawrangler.viewer.v0+json": {
       "columns": [
        {
         "name": "index",
         "rawType": "int64",
         "type": "integer"
        },
        {
         "name": "employee_id",
         "rawType": "int64",
         "type": "integer"
        },
        {
         "name": "age",
         "rawType": "int64",
         "type": "integer"
        },
        {
         "name": "gender",
         "rawType": "object",
         "type": "string"
        },
        {
         "name": "marital_status",
         "rawType": "object",
         "type": "string"
        },
        {
         "name": "salary",
         "rawType": "float64",
         "type": "float"
        },
        {
         "name": "employment_type",
         "rawType": "object",
         "type": "string"
        },
        {
         "name": "region",
         "rawType": "object",
         "type": "string"
        },
        {
         "name": "has_dependents",
         "rawType": "object",
         "type": "string"
        },
        {
         "name": "tenure_years",
         "rawType": "float64",
         "type": "float"
        },
        {
         "name": "enrolled",
         "rawType": "int64",
         "type": "integer"
        }
       ],
       "conversionMethod": "pd.DataFrame",
       "ref": "166366a5-75e9-4030-866d-d1e63c70e224",
       "rows": [
        [
         "0",
         "10001",
         "60",
         "Female",
         "Single",
         "55122.97",
         "Part-time",
         "West",
         "No",
         "1.5",
         "0"
        ],
        [
         "1",
         "10002",
         "50",
         "Female",
         "Single",
         "89549.66",
         "Full-time",
         "West",
         "Yes",
         "12.8",
         "1"
        ],
        [
         "2",
         "10003",
         "36",
         "Male",
         "Divorced",
         "74145.66",
         "Part-time",
         "Midwest",
         "No",
         "3.8",
         "0"
        ],
        [
         "3",
         "10004",
         "64",
         "Female",
         "Married",
         "53877.83",
         "Full-time",
         "Northeast",
         "No",
         "3.3",
         "0"
        ],
        [
         "4",
         "10005",
         "29",
         "Male",
         "Single",
         "63404.63",
         "Contract",
         "Midwest",
         "Yes",
         "10.0",
         "0"
        ]
       ],
       "shape": {
        "columns": 10,
        "rows": 5
       }
      },
      "text/html": [
       "<div>\n",
       "<style scoped>\n",
       "    .dataframe tbody tr th:only-of-type {\n",
       "        vertical-align: middle;\n",
       "    }\n",
       "\n",
       "    .dataframe tbody tr th {\n",
       "        vertical-align: top;\n",
       "    }\n",
       "\n",
       "    .dataframe thead th {\n",
       "        text-align: right;\n",
       "    }\n",
       "</style>\n",
       "<table border=\"1\" class=\"dataframe\">\n",
       "  <thead>\n",
       "    <tr style=\"text-align: right;\">\n",
       "      <th></th>\n",
       "      <th>employee_id</th>\n",
       "      <th>age</th>\n",
       "      <th>gender</th>\n",
       "      <th>marital_status</th>\n",
       "      <th>salary</th>\n",
       "      <th>employment_type</th>\n",
       "      <th>region</th>\n",
       "      <th>has_dependents</th>\n",
       "      <th>tenure_years</th>\n",
       "      <th>enrolled</th>\n",
       "    </tr>\n",
       "  </thead>\n",
       "  <tbody>\n",
       "    <tr>\n",
       "      <th>0</th>\n",
       "      <td>10001</td>\n",
       "      <td>60</td>\n",
       "      <td>Female</td>\n",
       "      <td>Single</td>\n",
       "      <td>55122.97</td>\n",
       "      <td>Part-time</td>\n",
       "      <td>West</td>\n",
       "      <td>No</td>\n",
       "      <td>1.5</td>\n",
       "      <td>0</td>\n",
       "    </tr>\n",
       "    <tr>\n",
       "      <th>1</th>\n",
       "      <td>10002</td>\n",
       "      <td>50</td>\n",
       "      <td>Female</td>\n",
       "      <td>Single</td>\n",
       "      <td>89549.66</td>\n",
       "      <td>Full-time</td>\n",
       "      <td>West</td>\n",
       "      <td>Yes</td>\n",
       "      <td>12.8</td>\n",
       "      <td>1</td>\n",
       "    </tr>\n",
       "    <tr>\n",
       "      <th>2</th>\n",
       "      <td>10003</td>\n",
       "      <td>36</td>\n",
       "      <td>Male</td>\n",
       "      <td>Divorced</td>\n",
       "      <td>74145.66</td>\n",
       "      <td>Part-time</td>\n",
       "      <td>Midwest</td>\n",
       "      <td>No</td>\n",
       "      <td>3.8</td>\n",
       "      <td>0</td>\n",
       "    </tr>\n",
       "    <tr>\n",
       "      <th>3</th>\n",
       "      <td>10004</td>\n",
       "      <td>64</td>\n",
       "      <td>Female</td>\n",
       "      <td>Married</td>\n",
       "      <td>53877.83</td>\n",
       "      <td>Full-time</td>\n",
       "      <td>Northeast</td>\n",
       "      <td>No</td>\n",
       "      <td>3.3</td>\n",
       "      <td>0</td>\n",
       "    </tr>\n",
       "    <tr>\n",
       "      <th>4</th>\n",
       "      <td>10005</td>\n",
       "      <td>29</td>\n",
       "      <td>Male</td>\n",
       "      <td>Single</td>\n",
       "      <td>63404.63</td>\n",
       "      <td>Contract</td>\n",
       "      <td>Midwest</td>\n",
       "      <td>Yes</td>\n",
       "      <td>10.0</td>\n",
       "      <td>0</td>\n",
       "    </tr>\n",
       "  </tbody>\n",
       "</table>\n",
       "</div>"
      ],
      "text/plain": [
       "   employee_id  age  gender marital_status    salary employment_type  \\\n",
       "0        10001   60  Female         Single  55122.97       Part-time   \n",
       "1        10002   50  Female         Single  89549.66       Full-time   \n",
       "2        10003   36    Male       Divorced  74145.66       Part-time   \n",
       "3        10004   64  Female        Married  53877.83       Full-time   \n",
       "4        10005   29    Male         Single  63404.63        Contract   \n",
       "\n",
       "      region has_dependents  tenure_years  enrolled  \n",
       "0       West             No           1.5         0  \n",
       "1       West            Yes          12.8         1  \n",
       "2    Midwest             No           3.8         0  \n",
       "3  Northeast             No           3.3         0  \n",
       "4    Midwest            Yes          10.0         0  "
      ]
     },
     "execution_count": 3,
     "metadata": {},
     "output_type": "execute_result"
    }
   ],
   "source": [
    "raw_data = pd.read_csv(\"https://github.com/neustackapp/assignment/raw/refs/heads/main/employee_data.csv\")\n",
    "print(f\"Shape of the dataset: {raw_data.shape}\")\n",
    "raw_data.head()"
   ]
  },
  {
   "cell_type": "markdown",
   "metadata": {},
   "source": [
    "### `Statistical Summary`"
   ]
  },
  {
   "cell_type": "code",
   "execution_count": null,
   "metadata": {},
   "outputs": [
    {
     "data": {
      "application/vnd.microsoft.datawrangler.viewer.v0+json": {
       "columns": [
        {
         "name": "index",
         "rawType": "object",
         "type": "string"
        },
        {
         "name": "employee_id",
         "rawType": "float64",
         "type": "float"
        },
        {
         "name": "age",
         "rawType": "float64",
         "type": "float"
        },
        {
         "name": "salary",
         "rawType": "float64",
         "type": "float"
        },
        {
         "name": "tenure_years",
         "rawType": "float64",
         "type": "float"
        },
        {
         "name": "enrolled",
         "rawType": "float64",
         "type": "float"
        }
       ],
       "conversionMethod": "pd.DataFrame",
       "ref": "36d0d6d0-3a5d-4b12-8586-2aac0d7643ea",
       "rows": [
        [
         "count",
         "10000.0",
         "10000.0",
         "10000.0",
         "10000.0",
         "10000.0"
        ],
        [
         "mean",
         "15000.5",
         "43.002",
         "65032.96790699999",
         "3.96772",
         "0.6174"
        ],
        [
         "std",
         "2886.8956799071675",
         "12.285800343852609",
         "14923.958446377685",
         "3.895488349943875",
         "0.4860461542759171"
        ],
        [
         "min",
         "10001.0",
         "22.0",
         "2207.79",
         "0.0",
         "0.0"
        ],
        [
         "25%",
         "12500.75",
         "33.0",
         "54714.3425",
         "1.2",
         "0.0"
        ],
        [
         "50%",
         "15000.5",
         "43.0",
         "65056.05",
         "2.8",
         "1.0"
        ],
        [
         "75%",
         "17500.25",
         "54.0",
         "75053.6875",
         "5.6",
         "1.0"
        ],
        [
         "max",
         "20000.0",
         "64.0",
         "120312.0",
         "36.0",
         "1.0"
        ]
       ],
       "shape": {
        "columns": 5,
        "rows": 8
       }
      },
      "text/html": [
       "<div>\n",
       "<style scoped>\n",
       "    .dataframe tbody tr th:only-of-type {\n",
       "        vertical-align: middle;\n",
       "    }\n",
       "\n",
       "    .dataframe tbody tr th {\n",
       "        vertical-align: top;\n",
       "    }\n",
       "\n",
       "    .dataframe thead th {\n",
       "        text-align: right;\n",
       "    }\n",
       "</style>\n",
       "<table border=\"1\" class=\"dataframe\">\n",
       "  <thead>\n",
       "    <tr style=\"text-align: right;\">\n",
       "      <th></th>\n",
       "      <th>employee_id</th>\n",
       "      <th>age</th>\n",
       "      <th>salary</th>\n",
       "      <th>tenure_years</th>\n",
       "      <th>enrolled</th>\n",
       "    </tr>\n",
       "  </thead>\n",
       "  <tbody>\n",
       "    <tr>\n",
       "      <th>count</th>\n",
       "      <td>10000.00000</td>\n",
       "      <td>10000.0000</td>\n",
       "      <td>10000.000000</td>\n",
       "      <td>10000.000000</td>\n",
       "      <td>10000.000000</td>\n",
       "    </tr>\n",
       "    <tr>\n",
       "      <th>mean</th>\n",
       "      <td>15000.50000</td>\n",
       "      <td>43.0020</td>\n",
       "      <td>65032.967907</td>\n",
       "      <td>3.967720</td>\n",
       "      <td>0.617400</td>\n",
       "    </tr>\n",
       "    <tr>\n",
       "      <th>std</th>\n",
       "      <td>2886.89568</td>\n",
       "      <td>12.2858</td>\n",
       "      <td>14923.958446</td>\n",
       "      <td>3.895488</td>\n",
       "      <td>0.486046</td>\n",
       "    </tr>\n",
       "    <tr>\n",
       "      <th>min</th>\n",
       "      <td>10001.00000</td>\n",
       "      <td>22.0000</td>\n",
       "      <td>2207.790000</td>\n",
       "      <td>0.000000</td>\n",
       "      <td>0.000000</td>\n",
       "    </tr>\n",
       "    <tr>\n",
       "      <th>25%</th>\n",
       "      <td>12500.75000</td>\n",
       "      <td>33.0000</td>\n",
       "      <td>54714.342500</td>\n",
       "      <td>1.200000</td>\n",
       "      <td>0.000000</td>\n",
       "    </tr>\n",
       "    <tr>\n",
       "      <th>50%</th>\n",
       "      <td>15000.50000</td>\n",
       "      <td>43.0000</td>\n",
       "      <td>65056.050000</td>\n",
       "      <td>2.800000</td>\n",
       "      <td>1.000000</td>\n",
       "    </tr>\n",
       "    <tr>\n",
       "      <th>75%</th>\n",
       "      <td>17500.25000</td>\n",
       "      <td>54.0000</td>\n",
       "      <td>75053.687500</td>\n",
       "      <td>5.600000</td>\n",
       "      <td>1.000000</td>\n",
       "    </tr>\n",
       "    <tr>\n",
       "      <th>max</th>\n",
       "      <td>20000.00000</td>\n",
       "      <td>64.0000</td>\n",
       "      <td>120312.000000</td>\n",
       "      <td>36.000000</td>\n",
       "      <td>1.000000</td>\n",
       "    </tr>\n",
       "  </tbody>\n",
       "</table>\n",
       "</div>"
      ],
      "text/plain": [
       "       employee_id         age         salary  tenure_years      enrolled\n",
       "count  10000.00000  10000.0000   10000.000000  10000.000000  10000.000000\n",
       "mean   15000.50000     43.0020   65032.967907      3.967720      0.617400\n",
       "std     2886.89568     12.2858   14923.958446      3.895488      0.486046\n",
       "min    10001.00000     22.0000    2207.790000      0.000000      0.000000\n",
       "25%    12500.75000     33.0000   54714.342500      1.200000      0.000000\n",
       "50%    15000.50000     43.0000   65056.050000      2.800000      1.000000\n",
       "75%    17500.25000     54.0000   75053.687500      5.600000      1.000000\n",
       "max    20000.00000     64.0000  120312.000000     36.000000      1.000000"
      ]
     },
     "execution_count": 4,
     "metadata": {},
     "output_type": "execute_result"
    }
   ],
   "source": [
    "raw_data.describe() ## Statistical info. about numerical columns.."
   ]
  },
  {
   "cell_type": "markdown",
   "metadata": {},
   "source": [
    "### It is clear that `mean and median are close` to each other, which essentially signifies the `absence of potential outliers`. However, we'll be plotting it to see if this actually True."
   ]
  },
  {
   "cell_type": "code",
   "execution_count": null,
   "metadata": {},
   "outputs": [
    {
     "data": {
      "application/vnd.microsoft.datawrangler.viewer.v0+json": {
       "columns": [
        {
         "name": "index",
         "rawType": "object",
         "type": "string"
        },
        {
         "name": "gender",
         "rawType": "object",
         "type": "unknown"
        },
        {
         "name": "marital_status",
         "rawType": "object",
         "type": "unknown"
        },
        {
         "name": "employment_type",
         "rawType": "object",
         "type": "unknown"
        },
        {
         "name": "region",
         "rawType": "object",
         "type": "unknown"
        },
        {
         "name": "has_dependents",
         "rawType": "object",
         "type": "unknown"
        }
       ],
       "conversionMethod": "pd.DataFrame",
       "ref": "9855eb5f-650d-4ef6-add0-6a28a979f93c",
       "rows": [
        [
         "count",
         "10000",
         "10000",
         "10000",
         "10000",
         "10000"
        ],
        [
         "unique",
         "3",
         "4",
         "3",
         "4",
         "2"
        ],
        [
         "top",
         "Male",
         "Married",
         "Full-time",
         "West",
         "Yes"
        ],
        [
         "freq",
         "4815",
         "4589",
         "7041",
         "2582",
         "5993"
        ]
       ],
       "shape": {
        "columns": 5,
        "rows": 4
       }
      },
      "text/html": [
       "<div>\n",
       "<style scoped>\n",
       "    .dataframe tbody tr th:only-of-type {\n",
       "        vertical-align: middle;\n",
       "    }\n",
       "\n",
       "    .dataframe tbody tr th {\n",
       "        vertical-align: top;\n",
       "    }\n",
       "\n",
       "    .dataframe thead th {\n",
       "        text-align: right;\n",
       "    }\n",
       "</style>\n",
       "<table border=\"1\" class=\"dataframe\">\n",
       "  <thead>\n",
       "    <tr style=\"text-align: right;\">\n",
       "      <th></th>\n",
       "      <th>gender</th>\n",
       "      <th>marital_status</th>\n",
       "      <th>employment_type</th>\n",
       "      <th>region</th>\n",
       "      <th>has_dependents</th>\n",
       "    </tr>\n",
       "  </thead>\n",
       "  <tbody>\n",
       "    <tr>\n",
       "      <th>count</th>\n",
       "      <td>10000</td>\n",
       "      <td>10000</td>\n",
       "      <td>10000</td>\n",
       "      <td>10000</td>\n",
       "      <td>10000</td>\n",
       "    </tr>\n",
       "    <tr>\n",
       "      <th>unique</th>\n",
       "      <td>3</td>\n",
       "      <td>4</td>\n",
       "      <td>3</td>\n",
       "      <td>4</td>\n",
       "      <td>2</td>\n",
       "    </tr>\n",
       "    <tr>\n",
       "      <th>top</th>\n",
       "      <td>Male</td>\n",
       "      <td>Married</td>\n",
       "      <td>Full-time</td>\n",
       "      <td>West</td>\n",
       "      <td>Yes</td>\n",
       "    </tr>\n",
       "    <tr>\n",
       "      <th>freq</th>\n",
       "      <td>4815</td>\n",
       "      <td>4589</td>\n",
       "      <td>7041</td>\n",
       "      <td>2582</td>\n",
       "      <td>5993</td>\n",
       "    </tr>\n",
       "  </tbody>\n",
       "</table>\n",
       "</div>"
      ],
      "text/plain": [
       "       gender marital_status employment_type region has_dependents\n",
       "count   10000          10000           10000  10000          10000\n",
       "unique      3              4               3      4              2\n",
       "top      Male        Married       Full-time   West            Yes\n",
       "freq     4815           4589            7041   2582           5993"
      ]
     },
     "execution_count": 5,
     "metadata": {},
     "output_type": "execute_result"
    }
   ],
   "source": [
    "raw_data.describe(include=\"object\") ## Statistical info. about Categorical columns.."
   ]
  },
  {
   "cell_type": "code",
   "execution_count": null,
   "metadata": {},
   "outputs": [],
   "source": []
  },
  {
   "cell_type": "code",
   "execution_count": null,
   "metadata": {},
   "outputs": [],
   "source": []
  }
 ],
 "metadata": {
  "kernelspec": {
   "display_name": "Python 3",
   "language": "python",
   "name": "python3"
  },
  "language_info": {
   "codemirror_mode": {
    "name": "ipython",
    "version": 3
   },
   "file_extension": ".py",
   "mimetype": "text/x-python",
   "name": "python",
   "nbconvert_exporter": "python",
   "pygments_lexer": "ipython3",
   "version": "3.13.2"
  }
 },
 "nbformat": 4,
 "nbformat_minor": 2
}
