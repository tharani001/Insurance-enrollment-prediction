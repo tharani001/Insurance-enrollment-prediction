{
 "cells": [
  {
   "cell_type": "code",
   "execution_count": 1,
   "metadata": {},
   "outputs": [],
   "source": [
    "## Data Analysis packages\n",
    "import numpy as np\n",
    "import pandas as pd\n",
    "\n",
    "import warnings\n",
    "\n",
    "## Data Visualization packages\n",
    "import matplotlib.pyplot as plt\n",
    "import plotly.express as px\n",
    "import seaborn as sns\n",
    "import matplotlib\n",
    "\n",
    "# sklearn library\n",
    "import sklearn\n",
    "\n",
    "### sklearn preprocessing tools\n",
    "from sklearn.impute import SimpleImputer\n",
    "from sklearn.pipeline import Pipeline\n",
    "from sklearn.compose import ColumnTransformer \n",
    "from sklearn.preprocessing import LabelEncoder, MinMaxScaler\n",
    "from sklearn.model_selection import StratifiedKFold,train_test_split\n",
    "from sklearn.metrics import classification_report,confusion_matrix,roc_curve,auc,accuracy_score,roc_auc_score\n",
    "from sklearn.preprocessing import StandardScaler, RobustScaler, QuantileTransformer, PowerTransformer,FunctionTransformer,OneHotEncoder\n",
    "\n",
    "# Error Metrics \n",
    "from sklearn.metrics import confusion_matrix ,classification_report\n",
    "from sklearn.metrics import accuracy_score, precision_score,recall_score,f1_score\n",
    "\n",
    "\n",
    "### Machine learning classification Models\n",
    "from sklearn.svm import SVC\n",
    "from sklearn.tree import DecisionTreeClassifier\n",
    "from sklearn import tree\n",
    "from sklearn.ensemble import GradientBoostingClassifier\n",
    "from sklearn.neighbors import KNeighborsClassifier\n",
    "from sklearn.linear_model import SGDClassifier #stacstic gradient descent clasifeier\n",
    "from sklearn.neighbors import KNeighborsClassifier\n",
    "from sklearn.ensemble import RandomForestClassifier\n",
    "from sklearn.naive_bayes import GaussianNB\n",
    "from sklearn.ensemble import AdaBoostClassifier\n",
    "\n",
    "\n",
    "#crossvalidation\n",
    "from sklearn.model_selection import cross_val_score\n",
    "from sklearn.model_selection import LeaveOneOut\n",
    "\n",
    "\n",
    "#hyper parameter tunning\n",
    "from sklearn.model_selection import GridSearchCV,cross_val_score,RandomizedSearchCV\n"
   ]
  },
  {
   "cell_type": "code",
   "execution_count": 2,
   "metadata": {},
   "outputs": [],
   "source": [
    "### Initial settings\n",
    "%matplotlib inline\n",
    "sns.set_style(\"darkgrid\")\n",
    "matplotlib.rcParams[\"font.size\"] = 10\n",
    "matplotlib.rcParams[\"figure.figsize\"] = (8,6)\n",
    "matplotlib.rcParams[\"figure.facecolor\"] = '#00000000' \n",
    "sns.set(rc={\n",
    "            \"font.size\":10,\n",
    "            \"axes.titlesize\":10,\n",
    "            \"axes.labelsize\":15},\n",
    "             style=\"darkgrid\",\n",
    "            ) \n",
    "\n",
    "warnings.filterwarnings('ignore')\n",
    "pd.set_option('display.max_colwidth', None)"
   ]
  },
  {
   "cell_type": "markdown",
   "metadata": {},
   "source": [
    "## Information about the dataset.\n",
    "\n",
    "- employee_id : Unique Identity of each employee\n",
    "\n",
    "- age : The actual age of the employee\n",
    "\n",
    "- gender : male or female\n",
    "\n",
    "- marital_status : Single or married Or divorced\n",
    "\n",
    "- salary : The actual salary of the employee\n",
    "\n",
    "- employment_type : Full time / Part time / Contract\n",
    "\n",
    "- region : North / South and so on\n",
    "\n",
    "- has_dependents : Yes or No\n",
    "\n",
    "- tenure_years  : Number of years enrolled\n",
    "\n",
    "- enrolled (target: 1 for enrolled, 0 for not enrolled)"
   ]
  },
  {
   "cell_type": "markdown",
   "metadata": {},
   "source": [
    "## `Data-Import`"
   ]
  },
  {
   "cell_type": "code",
   "execution_count": 3,
   "metadata": {},
   "outputs": [
    {
     "data": {
      "application/vnd.microsoft.datawrangler.viewer.v0+json": {
       "columns": [
        {
         "name": "index",
         "rawType": "int64",
         "type": "integer"
        },
        {
         "name": "employee_id",
         "rawType": "int64",
         "type": "integer"
        },
        {
         "name": "age",
         "rawType": "int64",
         "type": "integer"
        },
        {
         "name": "gender",
         "rawType": "object",
         "type": "string"
        },
        {
         "name": "marital_status",
         "rawType": "object",
         "type": "string"
        },
        {
         "name": "salary",
         "rawType": "float64",
         "type": "float"
        },
        {
         "name": "employment_type",
         "rawType": "object",
         "type": "string"
        },
        {
         "name": "region",
         "rawType": "object",
         "type": "string"
        },
        {
         "name": "has_dependents",
         "rawType": "object",
         "type": "string"
        },
        {
         "name": "tenure_years",
         "rawType": "float64",
         "type": "float"
        },
        {
         "name": "enrolled",
         "rawType": "int64",
         "type": "integer"
        }
       ],
       "conversionMethod": "pd.DataFrame",
       "ref": "685215c3-c377-4777-a80c-3551970dc957",
       "rows": [
        [
         "0",
         "10001",
         "60",
         "Female",
         "Single",
         "55122.97",
         "Part-time",
         "West",
         "No",
         "1.5",
         "0"
        ],
        [
         "1",
         "10002",
         "50",
         "Female",
         "Single",
         "89549.66",
         "Full-time",
         "West",
         "Yes",
         "12.8",
         "1"
        ],
        [
         "2",
         "10003",
         "36",
         "Male",
         "Divorced",
         "74145.66",
         "Part-time",
         "Midwest",
         "No",
         "3.8",
         "0"
        ],
        [
         "3",
         "10004",
         "64",
         "Female",
         "Married",
         "53877.83",
         "Full-time",
         "Northeast",
         "No",
         "3.3",
         "0"
        ],
        [
         "4",
         "10005",
         "29",
         "Male",
         "Single",
         "63404.63",
         "Contract",
         "Midwest",
         "Yes",
         "10.0",
         "0"
        ]
       ],
       "shape": {
        "columns": 10,
        "rows": 5
       }
      },
      "text/html": [
       "<div>\n",
       "<style scoped>\n",
       "    .dataframe tbody tr th:only-of-type {\n",
       "        vertical-align: middle;\n",
       "    }\n",
       "\n",
       "    .dataframe tbody tr th {\n",
       "        vertical-align: top;\n",
       "    }\n",
       "\n",
       "    .dataframe thead th {\n",
       "        text-align: right;\n",
       "    }\n",
       "</style>\n",
       "<table border=\"1\" class=\"dataframe\">\n",
       "  <thead>\n",
       "    <tr style=\"text-align: right;\">\n",
       "      <th></th>\n",
       "      <th>employee_id</th>\n",
       "      <th>age</th>\n",
       "      <th>gender</th>\n",
       "      <th>marital_status</th>\n",
       "      <th>salary</th>\n",
       "      <th>employment_type</th>\n",
       "      <th>region</th>\n",
       "      <th>has_dependents</th>\n",
       "      <th>tenure_years</th>\n",
       "      <th>enrolled</th>\n",
       "    </tr>\n",
       "  </thead>\n",
       "  <tbody>\n",
       "    <tr>\n",
       "      <th>0</th>\n",
       "      <td>10001</td>\n",
       "      <td>60</td>\n",
       "      <td>Female</td>\n",
       "      <td>Single</td>\n",
       "      <td>55122.97</td>\n",
       "      <td>Part-time</td>\n",
       "      <td>West</td>\n",
       "      <td>No</td>\n",
       "      <td>1.5</td>\n",
       "      <td>0</td>\n",
       "    </tr>\n",
       "    <tr>\n",
       "      <th>1</th>\n",
       "      <td>10002</td>\n",
       "      <td>50</td>\n",
       "      <td>Female</td>\n",
       "      <td>Single</td>\n",
       "      <td>89549.66</td>\n",
       "      <td>Full-time</td>\n",
       "      <td>West</td>\n",
       "      <td>Yes</td>\n",
       "      <td>12.8</td>\n",
       "      <td>1</td>\n",
       "    </tr>\n",
       "    <tr>\n",
       "      <th>2</th>\n",
       "      <td>10003</td>\n",
       "      <td>36</td>\n",
       "      <td>Male</td>\n",
       "      <td>Divorced</td>\n",
       "      <td>74145.66</td>\n",
       "      <td>Part-time</td>\n",
       "      <td>Midwest</td>\n",
       "      <td>No</td>\n",
       "      <td>3.8</td>\n",
       "      <td>0</td>\n",
       "    </tr>\n",
       "    <tr>\n",
       "      <th>3</th>\n",
       "      <td>10004</td>\n",
       "      <td>64</td>\n",
       "      <td>Female</td>\n",
       "      <td>Married</td>\n",
       "      <td>53877.83</td>\n",
       "      <td>Full-time</td>\n",
       "      <td>Northeast</td>\n",
       "      <td>No</td>\n",
       "      <td>3.3</td>\n",
       "      <td>0</td>\n",
       "    </tr>\n",
       "    <tr>\n",
       "      <th>4</th>\n",
       "      <td>10005</td>\n",
       "      <td>29</td>\n",
       "      <td>Male</td>\n",
       "      <td>Single</td>\n",
       "      <td>63404.63</td>\n",
       "      <td>Contract</td>\n",
       "      <td>Midwest</td>\n",
       "      <td>Yes</td>\n",
       "      <td>10.0</td>\n",
       "      <td>0</td>\n",
       "    </tr>\n",
       "  </tbody>\n",
       "</table>\n",
       "</div>"
      ],
      "text/plain": [
       "   employee_id  age  gender marital_status    salary employment_type  \\\n",
       "0        10001   60  Female         Single  55122.97       Part-time   \n",
       "1        10002   50  Female         Single  89549.66       Full-time   \n",
       "2        10003   36    Male       Divorced  74145.66       Part-time   \n",
       "3        10004   64  Female        Married  53877.83       Full-time   \n",
       "4        10005   29    Male         Single  63404.63        Contract   \n",
       "\n",
       "      region has_dependents  tenure_years  enrolled  \n",
       "0       West             No           1.5         0  \n",
       "1       West            Yes          12.8         1  \n",
       "2    Midwest             No           3.8         0  \n",
       "3  Northeast             No           3.3         0  \n",
       "4    Midwest            Yes          10.0         0  "
      ]
     },
     "execution_count": 3,
     "metadata": {},
     "output_type": "execute_result"
    }
   ],
   "source": [
    "raw_data = pd.read_csv(\"https://github.com/neustackapp/assignment/raw/refs/heads/main/employee_data.csv\")\n",
    "raw_data.head()"
   ]
  },
  {
   "cell_type": "markdown",
   "metadata": {},
   "source": [
    "## `Train-Test-Split:`\n",
    "\n",
    "### Doing any kind of transformations before splitting the data leads to `deceitful model.`"
   ]
  },
  {
   "cell_type": "code",
   "execution_count": null,
   "metadata": {},
   "outputs": [
    {
     "name": "stdout",
     "output_type": "stream",
     "text": [
      "Train data shape :  (7500, 10)\n",
      "Test data shape :  (2500, 10)\n"
     ]
    }
   ],
   "source": [
    "from sklearn.model_selection import train_test_split\n",
    "\n",
    "train_df, test_df = train_test_split(raw_data,random_state=2)\n",
    "print(f\"Train data shape : \", train_df.shape)\n",
    "print(f\"Test data shape : \", test_df.shape)"
   ]
  },
  {
   "cell_type": "code",
   "execution_count": 5,
   "metadata": {},
   "outputs": [
    {
     "data": {
      "application/vnd.microsoft.datawrangler.viewer.v0+json": {
       "columns": [
        {
         "name": "index",
         "rawType": "int64",
         "type": "integer"
        },
        {
         "name": "employee_id",
         "rawType": "int64",
         "type": "integer"
        },
        {
         "name": "age",
         "rawType": "int64",
         "type": "integer"
        },
        {
         "name": "gender",
         "rawType": "object",
         "type": "string"
        },
        {
         "name": "marital_status",
         "rawType": "object",
         "type": "string"
        },
        {
         "name": "salary",
         "rawType": "float64",
         "type": "float"
        },
        {
         "name": "employment_type",
         "rawType": "object",
         "type": "string"
        },
        {
         "name": "region",
         "rawType": "object",
         "type": "string"
        },
        {
         "name": "has_dependents",
         "rawType": "object",
         "type": "string"
        },
        {
         "name": "tenure_years",
         "rawType": "float64",
         "type": "float"
        },
        {
         "name": "enrolled",
         "rawType": "int64",
         "type": "integer"
        }
       ],
       "conversionMethod": "pd.DataFrame",
       "ref": "04adbd0d-0ef9-44a8-ab8b-7c631c107d2b",
       "rows": [
        [
         "2753",
         "12754",
         "56",
         "Male",
         "Married",
         "69297.05",
         "Full-time",
         "South",
         "Yes",
         "0.5",
         "1"
        ],
        [
         "2824",
         "12825",
         "51",
         "Female",
         "Single",
         "76583.42",
         "Part-time",
         "South",
         "Yes",
         "1.6",
         "1"
        ],
        [
         "2597",
         "12598",
         "45",
         "Female",
         "Married",
         "94439.96",
         "Full-time",
         "West",
         "Yes",
         "1.3",
         "1"
        ],
        [
         "3973",
         "13974",
         "22",
         "Male",
         "Divorced",
         "61050.07",
         "Part-time",
         "Midwest",
         "Yes",
         "3.1",
         "0"
        ],
        [
         "3335",
         "13336",
         "50",
         "Female",
         "Married",
         "28380.67",
         "Full-time",
         "South",
         "Yes",
         "13.0",
         "1"
        ]
       ],
       "shape": {
        "columns": 10,
        "rows": 5
       }
      },
      "text/html": [
       "<div>\n",
       "<style scoped>\n",
       "    .dataframe tbody tr th:only-of-type {\n",
       "        vertical-align: middle;\n",
       "    }\n",
       "\n",
       "    .dataframe tbody tr th {\n",
       "        vertical-align: top;\n",
       "    }\n",
       "\n",
       "    .dataframe thead th {\n",
       "        text-align: right;\n",
       "    }\n",
       "</style>\n",
       "<table border=\"1\" class=\"dataframe\">\n",
       "  <thead>\n",
       "    <tr style=\"text-align: right;\">\n",
       "      <th></th>\n",
       "      <th>employee_id</th>\n",
       "      <th>age</th>\n",
       "      <th>gender</th>\n",
       "      <th>marital_status</th>\n",
       "      <th>salary</th>\n",
       "      <th>employment_type</th>\n",
       "      <th>region</th>\n",
       "      <th>has_dependents</th>\n",
       "      <th>tenure_years</th>\n",
       "      <th>enrolled</th>\n",
       "    </tr>\n",
       "  </thead>\n",
       "  <tbody>\n",
       "    <tr>\n",
       "      <th>2753</th>\n",
       "      <td>12754</td>\n",
       "      <td>56</td>\n",
       "      <td>Male</td>\n",
       "      <td>Married</td>\n",
       "      <td>69297.05</td>\n",
       "      <td>Full-time</td>\n",
       "      <td>South</td>\n",
       "      <td>Yes</td>\n",
       "      <td>0.5</td>\n",
       "      <td>1</td>\n",
       "    </tr>\n",
       "    <tr>\n",
       "      <th>2824</th>\n",
       "      <td>12825</td>\n",
       "      <td>51</td>\n",
       "      <td>Female</td>\n",
       "      <td>Single</td>\n",
       "      <td>76583.42</td>\n",
       "      <td>Part-time</td>\n",
       "      <td>South</td>\n",
       "      <td>Yes</td>\n",
       "      <td>1.6</td>\n",
       "      <td>1</td>\n",
       "    </tr>\n",
       "    <tr>\n",
       "      <th>2597</th>\n",
       "      <td>12598</td>\n",
       "      <td>45</td>\n",
       "      <td>Female</td>\n",
       "      <td>Married</td>\n",
       "      <td>94439.96</td>\n",
       "      <td>Full-time</td>\n",
       "      <td>West</td>\n",
       "      <td>Yes</td>\n",
       "      <td>1.3</td>\n",
       "      <td>1</td>\n",
       "    </tr>\n",
       "    <tr>\n",
       "      <th>3973</th>\n",
       "      <td>13974</td>\n",
       "      <td>22</td>\n",
       "      <td>Male</td>\n",
       "      <td>Divorced</td>\n",
       "      <td>61050.07</td>\n",
       "      <td>Part-time</td>\n",
       "      <td>Midwest</td>\n",
       "      <td>Yes</td>\n",
       "      <td>3.1</td>\n",
       "      <td>0</td>\n",
       "    </tr>\n",
       "    <tr>\n",
       "      <th>3335</th>\n",
       "      <td>13336</td>\n",
       "      <td>50</td>\n",
       "      <td>Female</td>\n",
       "      <td>Married</td>\n",
       "      <td>28380.67</td>\n",
       "      <td>Full-time</td>\n",
       "      <td>South</td>\n",
       "      <td>Yes</td>\n",
       "      <td>13.0</td>\n",
       "      <td>1</td>\n",
       "    </tr>\n",
       "  </tbody>\n",
       "</table>\n",
       "</div>"
      ],
      "text/plain": [
       "      employee_id  age  gender marital_status    salary employment_type  \\\n",
       "2753        12754   56    Male        Married  69297.05       Full-time   \n",
       "2824        12825   51  Female         Single  76583.42       Part-time   \n",
       "2597        12598   45  Female        Married  94439.96       Full-time   \n",
       "3973        13974   22    Male       Divorced  61050.07       Part-time   \n",
       "3335        13336   50  Female        Married  28380.67       Full-time   \n",
       "\n",
       "       region has_dependents  tenure_years  enrolled  \n",
       "2753    South            Yes           0.5         1  \n",
       "2824    South            Yes           1.6         1  \n",
       "2597     West            Yes           1.3         1  \n",
       "3973  Midwest            Yes           3.1         0  \n",
       "3335    South            Yes          13.0         1  "
      ]
     },
     "execution_count": 5,
     "metadata": {},
     "output_type": "execute_result"
    }
   ],
   "source": [
    "train_df.head()"
   ]
  },
  {
   "cell_type": "code",
   "execution_count": 6,
   "metadata": {},
   "outputs": [
    {
     "data": {
      "application/vnd.microsoft.datawrangler.viewer.v0+json": {
       "columns": [
        {
         "name": "index",
         "rawType": "object",
         "type": "string"
        },
        {
         "name": "employee_id",
         "rawType": "float64",
         "type": "float"
        },
        {
         "name": "age",
         "rawType": "float64",
         "type": "float"
        },
        {
         "name": "salary",
         "rawType": "float64",
         "type": "float"
        },
        {
         "name": "tenure_years",
         "rawType": "float64",
         "type": "float"
        },
        {
         "name": "enrolled",
         "rawType": "float64",
         "type": "float"
        }
       ],
       "conversionMethod": "pd.DataFrame",
       "ref": "de5c3e12-1a10-4bd0-94a1-68471445f7a5",
       "rows": [
        [
         "count",
         "7500.0",
         "7500.0",
         "7500.0",
         "7500.0",
         "7500.0"
        ],
        [
         "mean",
         "14998.246533333333",
         "42.8628",
         "65003.78527466667",
         "4.00428",
         "0.6148"
        ],
        [
         "std",
         "2877.0929613777002",
         "12.26410605247289",
         "14972.851589205777",
         "3.886657496590025",
         "0.4866749842951781"
        ],
        [
         "min",
         "10001.0",
         "22.0",
         "2207.79",
         "0.0",
         "0.0"
        ],
        [
         "25%",
         "12518.5",
         "32.0",
         "54686.4375",
         "1.2",
         "0.0"
        ],
        [
         "50%",
         "15004.5",
         "43.0",
         "64967.675",
         "2.8",
         "1.0"
        ],
        [
         "75%",
         "17470.25",
         "53.0",
         "75045.1425",
         "5.6",
         "1.0"
        ],
        [
         "max",
         "19999.0",
         "64.0",
         "120312.0",
         "36.0",
         "1.0"
        ]
       ],
       "shape": {
        "columns": 5,
        "rows": 8
       }
      },
      "text/html": [
       "<div>\n",
       "<style scoped>\n",
       "    .dataframe tbody tr th:only-of-type {\n",
       "        vertical-align: middle;\n",
       "    }\n",
       "\n",
       "    .dataframe tbody tr th {\n",
       "        vertical-align: top;\n",
       "    }\n",
       "\n",
       "    .dataframe thead th {\n",
       "        text-align: right;\n",
       "    }\n",
       "</style>\n",
       "<table border=\"1\" class=\"dataframe\">\n",
       "  <thead>\n",
       "    <tr style=\"text-align: right;\">\n",
       "      <th></th>\n",
       "      <th>employee_id</th>\n",
       "      <th>age</th>\n",
       "      <th>salary</th>\n",
       "      <th>tenure_years</th>\n",
       "      <th>enrolled</th>\n",
       "    </tr>\n",
       "  </thead>\n",
       "  <tbody>\n",
       "    <tr>\n",
       "      <th>count</th>\n",
       "      <td>7500.000000</td>\n",
       "      <td>7500.000000</td>\n",
       "      <td>7500.000000</td>\n",
       "      <td>7500.000000</td>\n",
       "      <td>7500.000000</td>\n",
       "    </tr>\n",
       "    <tr>\n",
       "      <th>mean</th>\n",
       "      <td>14998.246533</td>\n",
       "      <td>42.862800</td>\n",
       "      <td>65003.785275</td>\n",
       "      <td>4.004280</td>\n",
       "      <td>0.614800</td>\n",
       "    </tr>\n",
       "    <tr>\n",
       "      <th>std</th>\n",
       "      <td>2877.092961</td>\n",
       "      <td>12.264106</td>\n",
       "      <td>14972.851589</td>\n",
       "      <td>3.886657</td>\n",
       "      <td>0.486675</td>\n",
       "    </tr>\n",
       "    <tr>\n",
       "      <th>min</th>\n",
       "      <td>10001.000000</td>\n",
       "      <td>22.000000</td>\n",
       "      <td>2207.790000</td>\n",
       "      <td>0.000000</td>\n",
       "      <td>0.000000</td>\n",
       "    </tr>\n",
       "    <tr>\n",
       "      <th>25%</th>\n",
       "      <td>12518.500000</td>\n",
       "      <td>32.000000</td>\n",
       "      <td>54686.437500</td>\n",
       "      <td>1.200000</td>\n",
       "      <td>0.000000</td>\n",
       "    </tr>\n",
       "    <tr>\n",
       "      <th>50%</th>\n",
       "      <td>15004.500000</td>\n",
       "      <td>43.000000</td>\n",
       "      <td>64967.675000</td>\n",
       "      <td>2.800000</td>\n",
       "      <td>1.000000</td>\n",
       "    </tr>\n",
       "    <tr>\n",
       "      <th>75%</th>\n",
       "      <td>17470.250000</td>\n",
       "      <td>53.000000</td>\n",
       "      <td>75045.142500</td>\n",
       "      <td>5.600000</td>\n",
       "      <td>1.000000</td>\n",
       "    </tr>\n",
       "    <tr>\n",
       "      <th>max</th>\n",
       "      <td>19999.000000</td>\n",
       "      <td>64.000000</td>\n",
       "      <td>120312.000000</td>\n",
       "      <td>36.000000</td>\n",
       "      <td>1.000000</td>\n",
       "    </tr>\n",
       "  </tbody>\n",
       "</table>\n",
       "</div>"
      ],
      "text/plain": [
       "        employee_id          age         salary  tenure_years     enrolled\n",
       "count   7500.000000  7500.000000    7500.000000   7500.000000  7500.000000\n",
       "mean   14998.246533    42.862800   65003.785275      4.004280     0.614800\n",
       "std     2877.092961    12.264106   14972.851589      3.886657     0.486675\n",
       "min    10001.000000    22.000000    2207.790000      0.000000     0.000000\n",
       "25%    12518.500000    32.000000   54686.437500      1.200000     0.000000\n",
       "50%    15004.500000    43.000000   64967.675000      2.800000     1.000000\n",
       "75%    17470.250000    53.000000   75045.142500      5.600000     1.000000\n",
       "max    19999.000000    64.000000  120312.000000     36.000000     1.000000"
      ]
     },
     "execution_count": 6,
     "metadata": {},
     "output_type": "execute_result"
    }
   ],
   "source": [
    "## Initial statistical description\n",
    "train_df.describe() "
   ]
  },
  {
   "cell_type": "markdown",
   "metadata": {},
   "source": [
    "### `Observations:`\n",
    "\n",
    "- Average salary of the employees is 65000, with a deviation of 15000(approx).\n",
    "\n",
    "- Median of the tenure years is 3(approx), which means 50% of employees were enrolled for more than 3 years.\n"
   ]
  },
  {
   "cell_type": "code",
   "execution_count": null,
   "metadata": {},
   "outputs": [],
   "source": []
  }
 ],
 "metadata": {
  "language_info": {
   "name": "python"
  }
 },
 "nbformat": 4,
 "nbformat_minor": 2
}
